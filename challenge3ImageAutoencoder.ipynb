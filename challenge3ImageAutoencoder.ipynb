{
  "nbformat": 4,
  "nbformat_minor": 0,
  "metadata": {
    "colab": {
      "name": "challenge3ImageAutoencoder.ipynb",
      "provenance": [],
      "collapsed_sections": [],
      "authorship_tag": "ABX9TyNUbAWlyHS41mcK6sShZFil",
      "include_colab_link": true
    },
    "kernelspec": {
      "name": "python3",
      "display_name": "Python 3"
    },
    "accelerator": "GPU"
  },
  "cells": [
    {
      "cell_type": "markdown",
      "metadata": {
        "id": "view-in-github",
        "colab_type": "text"
      },
      "source": [
        "<a href=\"https://colab.research.google.com/github/ozyinc/ANNADL-project/blob/master/challenge3ImageAutoencoder.ipynb\" target=\"_parent\"><img src=\"https://colab.research.google.com/assets/colab-badge.svg\" alt=\"Open In Colab\"/></a>"
      ]
    },
    {
      "cell_type": "code",
      "metadata": {
        "colab": {
          "base_uri": "https://localhost:8080/"
        },
        "id": "AuzZPrM3ozAK",
        "outputId": "699616da-4c9d-456a-f9fc-62d228866331"
      },
      "source": [
        "# Run this cell only if you are using Colab with Drive\r\n",
        "# Run each time you initialize a machine\r\n",
        "from google.colab import drive\r\n",
        "drive.mount('/content/drive')\r\n",
        "\r\n",
        "!unzip '/content/drive/My Drive/Datasets/VQA_Dataset.zip' > /dev/null"
      ],
      "execution_count": 33,
      "outputs": [
        {
          "output_type": "stream",
          "text": [
            "Drive already mounted at /content/drive; to attempt to forcibly remount, call drive.mount(\"/content/drive\", force_remount=True).\n",
            "replace Images/0.png? [y]es, [n]o, [A]ll, [N]one, [r]ename: N\n"
          ],
          "name": "stdout"
        }
      ]
    },
    {
      "cell_type": "code",
      "metadata": {
        "id": "X7roJysVr_Oo"
      },
      "source": [
        "import numpy as np\r\n",
        "import tensorflow as tf\r\n",
        "from tensorflow import keras\r\n",
        "import PIL\r\n",
        "import json\r\n",
        "import glob\r\n",
        "\r\n",
        "from os import path\r\n",
        "# set seed\r\n",
        "seed = 1234\r\n",
        "tf.random.set_seed(seed)\r\n",
        "np.random.seed(seed)\r\n",
        "import numpy as np\r\n",
        "import tensorflow as tf\r\n",
        "from tensorflow import keras\r\n",
        "import PIL\r\n",
        "import json\r\n",
        "import glob\r\n",
        "\r\n",
        "img_pre = keras.preprocessing.image\r\n",
        "\r\n",
        "from os import path\r\n",
        "\r\n",
        "DIR = path.abspath(path.curdir)\r\n",
        "\r\n",
        "# set seed\r\n",
        "seed = 1234\r\n",
        "tf.random.set_seed(seed)\r\n",
        "np.random.seed(seed)\r\n"
      ],
      "execution_count": 34,
      "outputs": []
    },
    {
      "cell_type": "code",
      "metadata": {
        "id": "caKcuVNGo9-A"
      },
      "source": [
        "from PIL import Image\r\n",
        "\r\n",
        "class CustomDataset(tf.keras.utils.Sequence):\r\n",
        "    \"\"\"\r\n",
        "      CustomDataset inheriting from tf.keras.utils.Sequence.\r\n",
        "\r\n",
        "      3 main methods:\r\n",
        "        - __init__: save dataset params like directory, filenames..\r\n",
        "        - __len__: return the total number of samples in the dataset\r\n",
        "        - __getitem__: return a sample from the dataset (image, question, answer)\r\n",
        "\r\n",
        "      Note:\r\n",
        "        - the custom dataset return a single sample from the dataset. Then, we use\r\n",
        "          a tf.data.Dataset object to group samples into batches.\r\n",
        "        - in this case we have a different structure of the dataset in memory.\r\n",
        "          We have all the images in the same folder and the training and validation splits\r\n",
        "          are defined in text files.\r\n",
        "\r\n",
        "    \"\"\"\r\n",
        "\r\n",
        "    def __init__(self, which_subset, img_generator=None,\r\n",
        "                 preprocessing_function=None, out_shape=[256, 256], validation_split=0.2):\r\n",
        "                \r\n",
        "        with open(path.join(DIR, \"train_questions_annotations.json\")) as file:\r\n",
        "            loaded = json.load(file).values()\r\n",
        "            train_questions = [x[\"question\"] for x in loaded]\r\n",
        "            train_images = [x[\"image_id\"] for x in loaded]\r\n",
        "            train_answers = [x[\"answer\"] for x in loaded]\r\n",
        "        train_images = list(dict.fromkeys(train_images))\r\n",
        "\r\n",
        "        self.train_images = train_images\r\n",
        "        self.img_generator = img_generator\r\n",
        "        self.preprocessing_function = preprocessing_function\r\n",
        "        self.out_shape = out_shape\r\n",
        "\r\n",
        "    def __len__(self):\r\n",
        "        return len(self.train_images)\r\n",
        "\r\n",
        "    def __getitem__(self, index):\r\n",
        "        img = Image.open(path.join(\"./Images\", self.train_images[index] + \".png\")).convert(\"RGB\")\r\n",
        "        img_arr = np.array(img)\r\n",
        "\r\n",
        "        if self.preprocessing_function:\r\n",
        "            img_arr = self.preprocessing_function(img_arr)\r\n",
        "        img_arr = np.expand_dims(img_arr, axis=0)\r\n",
        "        img_arr = img_arr.astype('float64')\r\n",
        "        img_arr *= 1./255\r\n",
        "        img_arr -= .5\r\n",
        "        return img_arr, img_arr"
      ],
      "execution_count": 35,
      "outputs": []
    },
    {
      "cell_type": "code",
      "metadata": {
        "colab": {
          "base_uri": "https://localhost:8080/"
        },
        "id": "tDO_6b6RpRxd",
        "outputId": "ecf39611-5066-4ece-ccff-593ec1ee0873"
      },
      "source": [
        "from tensorflow.keras.preprocessing.image import ImageDataGenerator\r\n",
        "train_data_gen = ImageDataGenerator()\r\n",
        "dataset = CustomDataset('training', img_generator=train_data_gen)\r\n",
        "train_dataset = tf.data.Dataset.from_generator(lambda: dataset,\r\n",
        "                                               output_types=(tf.float32, tf.float32),\r\n",
        "                                               output_shapes=([None, 400, 700, 3], [None, 400, 700, 3]))\r\n",
        "train_dataset.repeat()"
      ],
      "execution_count": 36,
      "outputs": [
        {
          "output_type": "execute_result",
          "data": {
            "text/plain": [
              "<RepeatDataset shapes: ((None, 400, 700, 3), (None, 400, 700, 3)), types: (tf.float32, tf.float32)>"
            ]
          },
          "metadata": {
            "tags": []
          },
          "execution_count": 36
        }
      ]
    },
    {
      "cell_type": "code",
      "metadata": {
        "id": "miAeVrkcY0FV"
      },
      "source": [
        "# Create Model\r\n",
        "# ------------\r\n",
        "\r\n",
        "def create_model(depth, start_f, dynamic_input_shape = False):\r\n",
        "\r\n",
        "    model = tf.keras.Sequential()\r\n",
        "\r\n",
        "    model.add(tf.keras.layers.experimental.preprocessing.Resizing(400, 800))\r\n",
        "    \r\n",
        "    # Encoder\r\n",
        "    # -------\r\n",
        "    for i in range(depth):\r\n",
        "        \r\n",
        "        if i == 0:\r\n",
        "            if dynamic_input_shape:\r\n",
        "                input_shape = [None, None, 3]\r\n",
        "            else:\r\n",
        "                input_shape = [400, 800, 3]\r\n",
        "        else:\r\n",
        "            input_shape=[None]\r\n",
        "        \r\n",
        "        model.add(tf.keras.layers.Conv2D(filters=start_f, \r\n",
        "                                         kernel_size=(3, 3),\r\n",
        "                                         strides=(1, 1),\r\n",
        "                                         padding='same',\r\n",
        "                                         input_shape=input_shape))\r\n",
        "        model.add(tf.keras.layers.ReLU())\r\n",
        "        model.add(tf.keras.layers.MaxPool2D(pool_size=(2, 2)))\r\n",
        "\r\n",
        "        start_f *= 2\r\n",
        "\r\n",
        "    # Bottleneck\r\n",
        "    model.add(tf.keras.layers.Conv2D(filters=start_f, kernel_size=(3, 3), strides=(1, 1), padding='same'))\r\n",
        "    model.add(tf.keras.layers.ReLU())\r\n",
        "    \r\n",
        "    start_f = start_f // 2\r\n",
        "        \r\n",
        "    # Decoder\r\n",
        "    # -------\r\n",
        "    for i in range(depth):\r\n",
        "        model.add(tf.keras.layers.UpSampling2D(2, interpolation='bilinear'))\r\n",
        "        model.add(tf.keras.layers.Conv2D(filters=start_f,\r\n",
        "                                         kernel_size=(3, 3),\r\n",
        "                                         strides=(1, 1),\r\n",
        "                                         padding='same'))\r\n",
        "        model.add(tf.keras.layers.ReLU())\r\n",
        "\r\n",
        "        start_f = start_f // 2\r\n",
        "\r\n",
        "    # Prediction Layer\r\n",
        "    # ----------------\r\n",
        "    model.add(tf.keras.layers.Conv2D(filters=1,\r\n",
        "                                     kernel_size=(1, 1),\r\n",
        "                                     strides=(1, 1),\r\n",
        "                                     padding='same',\r\n",
        "                                     activation='sigmoid'))\r\n",
        "    \r\n",
        "    model.add(tf.keras.layers.experimental.preprocessing.Resizing(400, 700))\r\n",
        "    \r\n",
        "    return model"
      ],
      "execution_count": 37,
      "outputs": []
    },
    {
      "cell_type": "code",
      "metadata": {
        "id": "yRUT_egXnkv4"
      },
      "source": [
        "import keras\r\n",
        "from keras import layers\r\n",
        "\r\n",
        "def create_leos_model():\r\n",
        "    input_img = keras.Input(shape=(400, 700, 3))\r\n",
        "\r\n",
        "    resized = layers.experimental.preprocessing.Resizing(400, 800)(input_img)\r\n",
        "\r\n",
        "    x = layers.Conv2D(8, (3, 3), activation='relu', padding='same')(resized)\r\n",
        "    x = layers.MaxPooling2D((2, 2), padding='same')(x)\r\n",
        "    x = layers.Conv2D(16, (3, 3), activation='relu', padding='same')(x)\r\n",
        "    x = layers.MaxPooling2D((2, 2), padding='same')(x)\r\n",
        "    x = layers.Conv2D(32, (3, 3), activation='relu', padding='same')(x)\r\n",
        "    x = layers.MaxPooling2D((2, 2), padding='same')(x)\r\n",
        "    x = layers.Conv2D(64, (3, 3), activation='relu', padding='same')(x)\r\n",
        "    encoded = layers.MaxPooling2D((2, 2), padding='same')(x)\r\n",
        "\r\n",
        "    # We don't use this anymore since it appears that we get better results\r\n",
        "    # encoded = layers.Dense(1000)(encoded)\r\n",
        "\r\n",
        "    x = layers.Conv2D(64, (3, 3), activation='relu', padding='same')(encoded)\r\n",
        "    x = layers.UpSampling2D((2, 2))(x)\r\n",
        "    x = layers.Conv2D(32, (3, 3), activation='relu', padding='same')(x)\r\n",
        "    x = layers.UpSampling2D((2, 2))(x)\r\n",
        "    x = layers.Conv2D(16, (3, 3), activation='relu', padding='same')(x)\r\n",
        "    x = layers.UpSampling2D((2, 2))(x)\r\n",
        "    x = layers.Conv2D(8, (3, 3), activation='relu', padding='same')(x)\r\n",
        "    x = layers.UpSampling2D((2, 2))(x)\r\n",
        "    resized = layers.Conv2D(3, (3, 3), activation='sigmoid', padding='same')(x)\r\n",
        "\r\n",
        "    decoded = layers.experimental.preprocessing.Resizing(400, 700)(resized)\r\n",
        "\r\n",
        "    return keras.Model(input_img, decoded)\r\n",
        "\r\n",
        "# Optimization params\r\n",
        "# -------------------\r\n",
        "\r\n",
        "# Loss\r\n",
        "loss = tf.keras.losses.MeanSquaredError()\r\n",
        "\r\n",
        "# learning rate\r\n",
        "lr = 1e-3\r\n",
        "optimizer = tf.keras.optimizers.Adam(learning_rate=lr)\r\n",
        "# -------------------\r\n",
        "\r\n",
        "# Validation metrics\r\n",
        "# ------------------\r\n",
        "\r\n",
        "metrics = ['accuracy']\r\n",
        "# ------------------\r\n",
        "\r\n",
        "autoencoder = create_leos_model() # achieved 0.5 accuracy\r\n",
        "#autoencoder = create_model(depth=5, start_f=8) # achieved 0.02 accuracy\r\n",
        "\r\n",
        "# Compile Model\r\n",
        "autoencoder.compile(optimizer=optimizer, loss=loss, metrics=metrics)\r\n"
      ],
      "execution_count": 55,
      "outputs": []
    },
    {
      "cell_type": "code",
      "metadata": {
        "id": "ju0LzS9Bx3mU",
        "colab": {
          "base_uri": "https://localhost:8080/"
        },
        "outputId": "5b1388e2-029f-4928-e629-b9cc983b839c"
      },
      "source": [
        "autoencoder.summary()"
      ],
      "execution_count": 56,
      "outputs": [
        {
          "output_type": "stream",
          "text": [
            "Model: \"model_4\"\n",
            "_________________________________________________________________\n",
            "Layer (type)                 Output Shape              Param #   \n",
            "=================================================================\n",
            "input_5 (InputLayer)         [(None, 400, 700, 3)]     0         \n",
            "_________________________________________________________________\n",
            "resizing_8 (Resizing)        (None, 400, 800, 3)       0         \n",
            "_________________________________________________________________\n",
            "conv2d_36 (Conv2D)           (None, 400, 800, 8)       224       \n",
            "_________________________________________________________________\n",
            "max_pooling2d_16 (MaxPooling (None, 200, 400, 8)       0         \n",
            "_________________________________________________________________\n",
            "conv2d_37 (Conv2D)           (None, 200, 400, 16)      1168      \n",
            "_________________________________________________________________\n",
            "max_pooling2d_17 (MaxPooling (None, 100, 200, 16)      0         \n",
            "_________________________________________________________________\n",
            "conv2d_38 (Conv2D)           (None, 100, 200, 32)      4640      \n",
            "_________________________________________________________________\n",
            "max_pooling2d_18 (MaxPooling (None, 50, 100, 32)       0         \n",
            "_________________________________________________________________\n",
            "conv2d_39 (Conv2D)           (None, 50, 100, 64)       18496     \n",
            "_________________________________________________________________\n",
            "max_pooling2d_19 (MaxPooling (None, 25, 50, 64)        0         \n",
            "_________________________________________________________________\n",
            "conv2d_40 (Conv2D)           (None, 25, 50, 64)        36928     \n",
            "_________________________________________________________________\n",
            "up_sampling2d_16 (UpSampling (None, 50, 100, 64)       0         \n",
            "_________________________________________________________________\n",
            "conv2d_41 (Conv2D)           (None, 50, 100, 32)       18464     \n",
            "_________________________________________________________________\n",
            "up_sampling2d_17 (UpSampling (None, 100, 200, 32)      0         \n",
            "_________________________________________________________________\n",
            "conv2d_42 (Conv2D)           (None, 100, 200, 16)      4624      \n",
            "_________________________________________________________________\n",
            "up_sampling2d_18 (UpSampling (None, 200, 400, 16)      0         \n",
            "_________________________________________________________________\n",
            "conv2d_43 (Conv2D)           (None, 200, 400, 8)       1160      \n",
            "_________________________________________________________________\n",
            "up_sampling2d_19 (UpSampling (None, 400, 800, 8)       0         \n",
            "_________________________________________________________________\n",
            "conv2d_44 (Conv2D)           (None, 400, 800, 3)       219       \n",
            "_________________________________________________________________\n",
            "resizing_9 (Resizing)        (None, 400, 700, 3)       0         \n",
            "=================================================================\n",
            "Total params: 85,923\n",
            "Trainable params: 85,923\n",
            "Non-trainable params: 0\n",
            "_________________________________________________________________\n"
          ],
          "name": "stdout"
        }
      ]
    },
    {
      "cell_type": "code",
      "metadata": {
        "colab": {
          "base_uri": "https://localhost:8080/"
        },
        "id": "lsEFVP_-pm8k",
        "outputId": "60c58274-2158-4f8e-b4a1-4f649b4bacf3"
      },
      "source": [
        "autoencoder.fit(x=train_dataset,\r\n",
        "                batch_size=16,\r\n",
        "                steps_per_epoch=58831/16,\r\n",
        "                epochs=50,\r\n",
        "                shuffle=True)"
      ],
      "execution_count": 57,
      "outputs": [
        {
          "output_type": "stream",
          "text": [
            "Epoch 1/50\n",
            "3676/3676 [==============================] - 85s 23ms/step - loss: 0.0631 - accuracy: 0.6191\n",
            "Epoch 2/50\n",
            "3676/3676 [==============================] - 84s 23ms/step - loss: 0.0551 - accuracy: 0.6605\n",
            "Epoch 3/50\n",
            "3676/3676 [==============================] - 83s 23ms/step - loss: 0.0550 - accuracy: 0.6545\n",
            "Epoch 4/50\n",
            "3676/3676 [==============================] - 84s 23ms/step - loss: 0.0546 - accuracy: 0.6865\n",
            "Epoch 5/50\n",
            "3676/3676 [==============================] - 84s 23ms/step - loss: 0.0542 - accuracy: 0.6943\n",
            "Epoch 6/50\n",
            "3676/3676 [==============================] - 84s 23ms/step - loss: 0.0545 - accuracy: 0.6947\n",
            "Epoch 7/50\n",
            "3676/3676 [==============================] - 84s 23ms/step - loss: 0.0552 - accuracy: 0.6835\n",
            "Epoch 8/50\n",
            "3005/3676 [=======================>......] - ETA: 15s - loss: 0.0556 - accuracy: 0.6933WARNING:tensorflow:Your input ran out of data; interrupting training. Make sure that your dataset or generator can generate at least `steps_per_epoch * epochs` batches (in this case, 183846.875 batches). You may need to use the repeat() function when building your dataset.\n",
            "3676/3676 [==============================] - 69s 19ms/step - loss: 0.0554 - accuracy: 0.6951\n"
          ],
          "name": "stdout"
        },
        {
          "output_type": "execute_result",
          "data": {
            "text/plain": [
              "<tensorflow.python.keras.callbacks.History at 0x7fcf86fd1be0>"
            ]
          },
          "metadata": {
            "tags": []
          },
          "execution_count": 57
        }
      ]
    },
    {
      "cell_type": "code",
      "metadata": {
        "id": "ZP3Ge7xFq45n",
        "colab": {
          "base_uri": "https://localhost:8080/",
          "height": 168
        },
        "outputId": "7e6aa9cf-d732-40b2-c577-9ad78dc3dc67"
      },
      "source": [
        "# Do a random predict()\r\n",
        "\r\n",
        "import random\r\n",
        "\r\n",
        "index = random.randint(1,1000)\r\n",
        "\r\n",
        "try:\r\n",
        "  img = Image.open(path.join(\"./Images\", str(index) + \".png\")).convert(\"RGB\")\r\n",
        "  img_arr = np.array(img)\r\n",
        "  img_arr = np.expand_dims(img_arr, axis=0)\r\n",
        "\r\n",
        "  img_arr = img_arr.astype('float64')\r\n",
        "  img_arr *= 1./255\r\n",
        "  img_arr -= .5\r\n",
        "\r\n",
        "  out = autoencoder.predict(img_arr)\r\n",
        "  out = out[0, :, :, :]\r\n",
        "  #out += .5 # since we are using sigmoid as output (so range 0-1) we don't have to sum .5\r\n",
        "  out *= 255 \r\n",
        "\r\n",
        "  import matplotlib.pyplot as plt\r\n",
        "  from PIL import Image\r\n",
        "\r\n",
        "  fig, ax = plt.subplots(1, 2, figsize=(8, 8))\r\n",
        "  fig.show()\r\n",
        "\r\n",
        "  ax[0].imshow(np.uint8(img))\r\n",
        "  ax[1].imshow(np.uint8(out))\r\n",
        "\r\n",
        "  fig.canvas.draw()\r\n",
        "except:\r\n",
        "  pass"
      ],
      "execution_count": 67,
      "outputs": [
        {
          "output_type": "display_data",
          "data": {
            "image/png": "[encoded data removed]",
            "text/plain": [
              "<Figure size 576x576 with 2 Axes>"
            ]
          },
          "metadata": {
            "tags": [],
            "needs_background": "light"
          }
        }
      ]
    },
    {
      "cell_type": "code",
      "metadata": {
        "id": "KfqDwm5M6htP",
        "colab": {
          "base_uri": "https://localhost:8080/"
        },
        "outputId": "14c1c5c4-b403-4107-d661-2c89cc1e8279"
      },
      "source": [
        "# Save the weights\r\n",
        "!mkdir ./saved_encoder\r\n",
        "autoencoder.save('./saved_encoder')\r\n",
        "!zip -o -r saved_encoder.zip ./saved_encoder"
      ],
      "execution_count": 68,
      "outputs": [
        {
          "output_type": "stream",
          "text": [
            "INFO:tensorflow:Assets written to: ./saved_encoder/assets\n",
            "  adding: saved_encoder/ (stored 0%)\n",
            "  adding: saved_encoder/saved_model.pb (deflated 90%)\n",
            "  adding: saved_encoder/variables/ (stored 0%)\n",
            "  adding: saved_encoder/variables/variables.index (deflated 72%)\n",
            "  adding: saved_encoder/variables/variables.data-00000-of-00001 (deflated 11%)\n",
            "  adding: saved_encoder/assets/ (stored 0%)\n"
          ],
          "name": "stdout"
        }
      ]
    }
  ]
}