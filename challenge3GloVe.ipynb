{
  "nbformat": 4,
  "nbformat_minor": 0,
  "metadata": {
    "accelerator": "GPU",
    "colab": {
      "name": "challenge3.ipynb",
      "provenance": [],
      "collapsed_sections": [],
      "toc_visible": true
    },
    "kernelspec": {
      "display_name": "Python 3",
      "name": "python3"
    }
  },
  "cells": [
    {
      "cell_type": "markdown",
      "metadata": {
        "id": "QSGATda7wg3j"
      },
      "source": [
        "# TODO\r\n",
        " * ~~Predict on test data to submit results~~\r\n",
        " * ~~Try using an autoencoded (trained on our image dataset) image feature detector instead of VGG~~\r\n",
        " * ~~Add Global Average Pooling~~\r\n",
        " * Loss function taking care of the 3 classes (uses `getCategory()` function to compare prediction vs target). Also modify the function to add other categories: colors, actions (standing, baseball, soccer, playing, etc..), directions (left, right)\r\n",
        " * ~~Print some stats about the dataset: classes quantities~~\r\n",
        " * Try GloVe instead of W2V (https://medium.com/@sarin.samarth07/glove-word-embeddings-with-keras-python-code-52131b0c8b1d)"
      ]
    },
    {
      "cell_type": "code",
      "metadata": {
        "colab": {
          "base_uri": "https://localhost:8080/"
        },
        "id": "0oslGqZd76cs",
        "outputId": "f61b8602-2c21-4bc3-81b4-7d421c0d69f5"
      },
      "source": [
        "# Run this cell only if you are using Colab with Drive\r\n",
        "# Run each time you initialize a machine\r\n",
        "from google.colab import drive\r\n",
        "drive.mount('/content/drive')\r\n",
        "\r\n",
        "!unzip '/content/drive/My Drive/Datasets/VQA_Dataset.zip' > /dev/null\r\n",
        "!unzip \"/content/drive/My Drive/Datasets/saved_encoder.zip\" > /dev/null"
      ],
      "execution_count": 1,
      "outputs": [
        {
          "output_type": "stream",
          "text": [
            "Mounted at /content/drive\n"
          ],
          "name": "stdout"
        }
      ]
    },
    {
      "cell_type": "code",
      "metadata": {
        "id": "8yNVM-HU96h7"
      },
      "source": [
        "from IPython.core.interactiveshell import InteractiveShell\r\n",
        "InteractiveShell.ast_node_interactivity = \"all\""
      ],
      "execution_count": null,
      "outputs": []
    },
    {
      "cell_type": "code",
      "metadata": {
        "id": "5__ME67D96cD"
      },
      "source": [
        "import numpy as np\r\n",
        "import tensorflow as tf\r\n",
        "from tensorflow import keras\r\n",
        "import PIL\r\n",
        "import json\r\n",
        "import glob\r\n",
        "\r\n",
        "img_pre = keras.preprocessing.image\r\n",
        "\r\n",
        "from os import path\r\n",
        "\r\n",
        "DIR = path.abspath(path.curdir)\r\n",
        "\r\n",
        "# set seed\r\n",
        "seed = 1234\r\n",
        "tf.random.set_seed(seed)\r\n",
        "np.random.seed(seed)\r\n",
        "\r\n",
        "# Constants\r\n",
        "\r\n",
        "img_size = (400, 700, 3)\r\n",
        "\r\n",
        "labels_dict = {\r\n",
        "        '0': 0,\r\n",
        "        '1': 1,\r\n",
        "        '2': 2,\r\n",
        "        '3': 3,\r\n",
        "        '4': 4,\r\n",
        "        '5': 5,\r\n",
        "        'apple': 6,\r\n",
        "        'baseball': 7,\r\n",
        "        'bench': 8,\r\n",
        "        'bike': 9,\r\n",
        "        'bird': 10,\r\n",
        "        'black': 11,\r\n",
        "        'blanket': 12,\r\n",
        "        'blue': 13,\r\n",
        "        'bone': 14,\r\n",
        "        'book': 15,\r\n",
        "        'boy': 16,\r\n",
        "        'brown': 17,\r\n",
        "        'cat': 18,\r\n",
        "        'chair': 19,\r\n",
        "        'couch': 20,\r\n",
        "        'dog': 21,\r\n",
        "        'floor': 22,\r\n",
        "        'food': 23,\r\n",
        "        'football': 24,\r\n",
        "        'girl': 25,\r\n",
        "        'grass': 26,\r\n",
        "        'gray': 27,\r\n",
        "        'green': 28,\r\n",
        "        'left': 29,\r\n",
        "        'log': 30,\r\n",
        "        'man': 31,\r\n",
        "        'monkey bars': 32,\r\n",
        "        'no': 33,\r\n",
        "        'nothing': 34,\r\n",
        "        'orange': 35,\r\n",
        "        'pie': 36,\r\n",
        "        'plant': 37,\r\n",
        "        'playing': 38,\r\n",
        "        'red': 39,\r\n",
        "        'right': 40,\r\n",
        "        'rug': 41,\r\n",
        "        'sandbox': 42,\r\n",
        "        'sitting': 43,\r\n",
        "        'sleeping': 44,\r\n",
        "        'soccer': 45,\r\n",
        "        'squirrel': 46,\r\n",
        "        'standing': 47,\r\n",
        "        'stool': 48,\r\n",
        "        'sunny': 49,\r\n",
        "        'table': 50,\r\n",
        "        'tree': 51,\r\n",
        "        'watermelon': 52,\r\n",
        "        'white': 53,\r\n",
        "        'wine': 54,\r\n",
        "        'woman': 55,\r\n",
        "        'yellow': 56,\r\n",
        "        'yes': 57\r\n",
        "}\r\n",
        "\r\n",
        "num_classes = len(labels_dict)"
      ],
      "execution_count": 7,
      "outputs": []
    },
    {
      "cell_type": "code",
      "metadata": {
        "id": "NYUlxOf2THmV"
      },
      "source": [
        "# Hyper-parameters\r\n",
        "# ------------------\r\n",
        "\r\n",
        "# Word2Vec\r\n",
        "max_sentence_length = 30\r\n",
        "using_glove = True\r\n",
        "glove_dimensions = 100 # One of 50, 100, 200, 300, it is the vector size of the output\r\n",
        "\r\n",
        "# Training\r\n",
        "batch_size = 32\r\n",
        "validation_split = 0.1\r\n",
        "finetuning = False\r\n",
        "\r\n",
        "epochs = 100\r\n",
        "steps_per_epoch = 52948 / batch_size # len(dataset) * (1 - validation_split) = ~52948\r\n",
        "validation_steps = 5883 / batch_size # len(dataset_valid) * validation_split = ~5883\r\n",
        "\r\n",
        "# Network\r\n",
        "using_vgg = False\r\n",
        "hidden_neurons = 128\r\n",
        "hidden_layers = 2\r\n",
        "\r\n",
        "add_dropout = 0 # 0 to turn it off\r\n",
        "first_n_layers_of_encoder = 9 # 9 is last MaxPolling, 10 also involves Dense\r\n",
        "\r\n",
        "# LSTM\r\n",
        "lstm_n_units = 32 # 128\r\n",
        "lstm_n_layers = 4 # 1\r\n",
        "lstm_use_bidirectional = True\r\n",
        "\r\n",
        "# Early Stopping\r\n",
        "early_stop = True\r\n",
        "monitor = 'val_loss'\r\n",
        "patience = 20"
      ],
      "execution_count": 33,
      "outputs": []
    },
    {
      "cell_type": "code",
      "metadata": {
        "colab": {
          "base_uri": "https://localhost:8080/"
        },
        "id": "MNQ5cEEFeuXk",
        "outputId": "ce10a58b-4f9e-44f8-d7fb-56eccbd36a9e"
      },
      "source": [
        "# Initialize the embeddings\r\n",
        "!cp /content/drive/My\\ Drive/Datasets/word2vec.model .\r\n",
        "\r\n",
        "from gensim.models import Word2Vec\r\n",
        "\r\n",
        "model_w2v = Word2Vec.load(\"word2vec.model\")\r\n",
        "\r\n",
        "w2v_vector_size = model_w2v.vector_size\r\n",
        "\r\n",
        "# Tests\r\n",
        "print(model_w2v.wv.most_similar(positive=[\"red\"]))\r\n",
        "print(model_w2v.wv.most_similar(positive=[\"man\"]))\r\n",
        "print(model_w2v.wv.most_similar(positive=[\"right\"]))"
      ],
      "execution_count": null,
      "outputs": [
        {
          "output_type": "stream",
          "text": [
            "[('black', 0.6762123107910156), ('gray', 0.6468334794044495), ('blue', 0.6462243795394897), ('white', 0.48647937178611755), ('tan', 0.4814988076686859), ('short-sleeved', 0.40863439440727234), ('sleeve', 0.40561360120773315), (\"ground's\", 0.39801156520843506), ('lefts', 0.3812544643878937), ('outlines', 0.37935036420822144)]\n",
            "[('boy', 0.8407500982284546), ('woman', 0.7949094176292419), ('lady', 0.794099748134613), ('guy', 0.7156769037246704), ('girl', 0.6591890454292297), ('kid', 0.6141188144683838), ('child', 0.6076536178588867), ('person', 0.6047650575637817), ('baby', 0.5876283645629883), ('couple', 0.5469201803207397)]\n",
            "[('left', 0.8639363050460815), ('couch', 0.4216926097869873), ('top', 0.4098255932331085), ('whom', 0.36560308933258057), ('old', 0.36172735691070557), ('slide', 0.3599586486816406), ('bench', 0.35730648040771484), ('football', 0.35334649682044983), ('young', 0.35247236490249634), ('bike', 0.34030652046203613)]\n"
          ],
          "name": "stdout"
        }
      ]
    },
    {
      "cell_type": "code",
      "metadata": {
        "id": "Bivg5YQSFu11"
      },
      "source": [
        "!wget http://nlp.stanford.edu/data/glove.6B.zip\n",
        "!unzip -q glove.6B.zip\n",
        "# Don't run if you don't use Glove, it is unnecessary"
      ],
      "execution_count": null,
      "outputs": []
    },
    {
      "cell_type": "code",
      "metadata": {
        "id": "sqTmUJhXCoc9",
        "outputId": "902477db-a8d6-4637-83a3-46a0732c0cc5",
        "colab": {
          "base_uri": "https://localhost:8080/"
        }
      },
      "source": [
        "if using_glove:\n",
        "    path_to_glove_file = \"./glove.6B.\" + str(glove_dimensions) + \"d.txt\"\n",
        "\n",
        "    embeddings_index = {}\n",
        "    with open(path_to_glove_file) as f:\n",
        "        for line in f:\n",
        "            word, coefs = line.split(maxsplit=1)\n",
        "            coefs = np.fromstring(coefs, \"f\", sep=\" \")\n",
        "            embeddings_index[word] = coefs\n",
        "\n",
        "    print(\"Found %s word vectors.\" % len(embeddings_index))\n",
        "    glove_vector_size = len(embeddings_index.get(\"the\"))\n"
      ],
      "execution_count": 18,
      "outputs": [
        {
          "output_type": "stream",
          "text": [
            "Found 400000 word vectors.\n"
          ],
          "name": "stdout"
        }
      ]
    },
    {
      "cell_type": "code",
      "metadata": {
        "id": "rd-Lnz1hGAoJ",
        "outputId": "ed9b384a-43a1-4c2f-acf1-1c57f43f7d47",
        "colab": {
          "base_uri": "https://localhost:8080/"
        }
      },
      "source": [
        "print(len(embeddings_index.get(\"the\")))"
      ],
      "execution_count": 15,
      "outputs": [
        {
          "output_type": "stream",
          "text": [
            "100\n"
          ],
          "name": "stdout"
        }
      ]
    },
    {
      "cell_type": "code",
      "metadata": {
        "id": "BjrEJq2jdHI9",
        "colab": {
          "base_uri": "https://localhost:8080/"
        },
        "outputId": "d6dbdccc-d1ee-4c0d-bdda-9f00afbb2f50"
      },
      "source": [
        "from collections import defaultdict, OrderedDict\n",
        "\n",
        "# Some data collection\n",
        "with open(path.join(DIR, \"train_questions_annotations.json\")) as file:\n",
        "    loaded = json.load(file).values()\n",
        "    train_questions = [x[\"question\"] for x in loaded]\n",
        "    train_answers = [x[\"answer\"] for x in loaded]\n",
        "\n",
        "class_counts = defaultdict(lambda: 0)\n",
        "for index in range(len(train_questions)):\n",
        "    class_counts[train_answers[index]] += 1\n",
        "total = sum(class_counts.values())\n",
        "weights = {k: v/total for k,v in class_counts.items()}\n",
        "weights"
      ],
      "execution_count": 19,
      "outputs": [
        {
          "output_type": "execute_result",
          "data": {
            "text/plain": [
              "{'0': 0.01009654609736198,\n",
              " '1': 0.04167799836823497,\n",
              " '2': 0.07563910796845254,\n",
              " '3': 0.028725863475659506,\n",
              " '4': 0.013479059015501768,\n",
              " '5': 0.008073837367419092,\n",
              " 'apple': 0.003314522708729943,\n",
              " 'baseball': 0.002821593690508567,\n",
              " 'bench': 0.0034844982322545554,\n",
              " 'bike': 0.003059559423443024,\n",
              " 'bird': 0.003518493336959478,\n",
              " 'black': 0.006238101713353277,\n",
              " 'blanket': 0.003467500679902094,\n",
              " 'blue': 0.013666032091378842,\n",
              " 'bone': 0.0030255643187381016,\n",
              " 'book': 0.0029405765569757956,\n",
              " 'boy': 0.0038414468316562414,\n",
              " 'brown': 0.011864291542017949,\n",
              " 'cat': 0.009501631765025836,\n",
              " 'chair': 0.002974571661680718,\n",
              " 'couch': 0.005167255915148218,\n",
              " 'dog': 0.011609328256731031,\n",
              " 'floor': 0.005677182485722056,\n",
              " 'food': 0.004572341582812075,\n",
              " 'football': 0.005014277943976068,\n",
              " 'girl': 0.004130405221648083,\n",
              " 'grass': 0.003467500679902094,\n",
              " 'gray': 0.00600013598041882,\n",
              " 'green': 0.0064590698939352735,\n",
              " 'left': 0.004759314658689149,\n",
              " 'log': 0.004028419907533315,\n",
              " 'man': 0.0036544737557791676,\n",
              " 'monkey bars': 0.0032465324993200977,\n",
              " 'no': 0.2194384008702747,\n",
              " 'nothing': 0.0044703562686973074,\n",
              " 'orange': 0.004130405221648083,\n",
              " 'pie': 0.0031275496328528694,\n",
              " 'plant': 0.004657329344574381,\n",
              " 'playing': 0.005286238781615447,\n",
              " 'red': 0.031955398422627145,\n",
              " 'right': 0.0051162632580908345,\n",
              " 'rug': 0.0044023660592874625,\n",
              " 'sandbox': 0.0029575741093282567,\n",
              " 'sitting': 0.007546913244492793,\n",
              " 'sleeping': 0.0038244492793037804,\n",
              " 'soccer': 0.005524204514549905,\n",
              " 'squirrel': 0.0030255643187381016,\n",
              " 'standing': 0.002923579004623334,\n",
              " 'stool': 0.003263530051672559,\n",
              " 'sunny': 0.003382512918139788,\n",
              " 'table': 0.005303236333967908,\n",
              " 'tree': 0.0028725863475659503,\n",
              " 'watermelon': 0.004079412564590699,\n",
              " 'white': 0.016759586619526787,\n",
              " 'wine': 0.005813162904541746,\n",
              " 'woman': 0.004963285286918684,\n",
              " 'yellow': 0.013462061463149306,\n",
              " 'yes': 0.31251699755235246}"
            ]
          },
          "metadata": {
            "tags": []
          },
          "execution_count": 19
        }
      ]
    },
    {
      "cell_type": "code",
      "metadata": {
        "id": "n-g_LLdOonM8"
      },
      "source": [
        "def getCategory(answer):\n",
        "    if answer in ['yes', 'no']:\n",
        "        return ['yes/no']\n",
        "    elif answer in [str(i) for i in range(6)]:\n",
        "        return ['counting']\n",
        "    elif answer in ['playing', 'sitting', 'sleeping', 'standing']:\n",
        "        return ['action']\n",
        "    elif answer in ['watermelon', 'pizza', 'pie', 'apple', 'food', 'wine']:\n",
        "        return ['edible', 'object']\n",
        "    elif answer in ['yellow', 'red', 'orange', 'green', 'gray', 'brown', 'blue', 'black', 'white']:\n",
        "        return ['color']\n",
        "    elif answer in ['cat', 'dog', 'squirrel', 'bird', 'boy', 'girl', 'woman', 'man']:\n",
        "        return ['animal','object'] # Stuff that walks and stuff\n",
        "    elif answer in ['soccer', 'football', 'baseball']:\n",
        "        return ['sport']\n",
        "    elif answer in ['bench', 'chair', 'couch', 'floor', 'table', 'stool', 'rug', 'blanket', 'grass', 'log', 'monkey bars', 'sandbox', 'tree']:\n",
        "        return ['sittable', 'object'] # Sittables are also locations\n",
        "    elif answer == \"bike\":\n",
        "        return ['object', 'transport']\n",
        "    elif answer == 'nothing':\n",
        "        return ['object', 'action']\n",
        "    elif answer in ['left', 'right']:\n",
        "        return ['direction']\n",
        "    elif answer in ['plant', 'bone', 'book']:\n",
        "        return ['object']\n",
        "    elif answer == \"sunny\":\n",
        "        return ['weather']\n",
        "    else:\n",
        "        return 'other'\n"
      ],
      "execution_count": 20,
      "outputs": []
    },
    {
      "cell_type": "code",
      "metadata": {
        "id": "_ti0NbOtonEf"
      },
      "source": [
        "coef_matrix = []\n",
        "commons = [\"2\", \"red\", \"yes\"] #the most common words\n",
        "for word_true in labels_dict.keys():\n",
        "    coef_row = []\n",
        "    for word_pred in labels_dict.keys():\n",
        "        true_props, pred_props = getCategory(word_true), getCategory(word_pred)\n",
        "        coef = 2.0\n",
        "        if all(true_prop in pred_props for true_prop in true_props):\n",
        "            coef = 1.0 # Correct categorization\n",
        "        elif (\"object\" in true_props or \"action\" in true_props) and word_pred == \"nothing\":\n",
        "            coef = 1.0 # We can predict nothing for actions or objects\n",
        "        if word_pred in commons and word_true not in commons:\n",
        "            coef = 3.0 # We predicted a common while the true value is not\n",
        "        coef_row.append(coef)\n",
        "    coef_matrix.append(coef_row)"
      ],
      "execution_count": 21,
      "outputs": []
    },
    {
      "cell_type": "code",
      "metadata": {
        "id": "xljzAGXJfoE0"
      },
      "source": [
        "orig_loss = tf.keras.losses.CategoricalCrossentropy()\n",
        "tf_weights = tf.constant(list(weights.values()))\n",
        "tf_coefs = tf.constant(coef_matrix)\n",
        "def custom_loss(y_true, y_pred):\n",
        "    true_class = tf.math.argmax(y_true)\n",
        "    pred_class = tf.math.argmax(y_pred)\n",
        "    class_weight_coef = 1 / (tf.gather(tf_weights, pred_class) / tf.gather(tf_weights, true_class))\n",
        "    category_coef = tf.gather(tf.gather(tf_coefs, true_class), pred_class)\n",
        "    # print(\"True\", true_class)\n",
        "    # print(\"Pred\", pred_class)\n",
        "    # print(\"Class weights\",class_weight_coef)\n",
        "    # print(\"Category coefficients\",category_coef)\n",
        "    return orig_loss(y_true, y_pred) * class_weight_coef * category_coef"
      ],
      "execution_count": 22,
      "outputs": []
    },
    {
      "cell_type": "code",
      "metadata": {
        "colab": {
          "base_uri": "https://localhost:8080/"
        },
        "id": "Bq-nZzpypr3_",
        "outputId": "f26d7b51-893d-42be-8ba6-9a836e926081"
      },
      "source": [
        "import tensorflow.keras.backend as K\n",
        "red_true = [0.0] * num_classes\n",
        "red_true[39] = 1.0\n",
        "predict_red = [0.0] * num_classes\n",
        "predict_red[39] = 0.7\n",
        "predict_red[0] = 0.2\n",
        "predict_red[23] = 0.1\n",
        "\n",
        "black_true = [0.0] * num_classes\n",
        "black_true[11] = 1.0\n",
        "\n",
        "predict_black = [0.0] * num_classes\n",
        "predict_black[11] = 0.7\n",
        "predict_black[2] = 0.2\n",
        "predict_black[39] = 0.1\n",
        "\n",
        "\n",
        "predict_no = [0.0] * num_classes\n",
        "predict_no[labels_dict[\"no\"]] = 0.7\n",
        "predict_no[3] = 0.2\n",
        "predict_no[2] = 0.1\n",
        "\n",
        "predict_yes = [0.0] * num_classes\n",
        "predict_yes[labels_dict[\"yes\"]] = 0.7\n",
        "predict_yes[labels_dict[\"no\"]] = 0.2\n",
        "predict_yes[2] = 0.1\n",
        "\n",
        "loss_eval = lambda t_val, p_val: K.eval(custom_loss(K.variable(t_val), K.variable(p_val)))\n",
        "\n",
        "red_correct_loss = loss_eval(red_true, predict_red)\n",
        "print(\"Common correct\", red_correct_loss)\n",
        "print()\n",
        "red_incorrect_loss = loss_eval(red_true, predict_black)\n",
        "print(\"Common same category, guessed uncommon\", red_incorrect_loss)\n",
        "print()\n",
        "\n",
        "black_loss = loss_eval(black_true, predict_red)\n",
        "print(\"Uncommon incorrect, guessed common\", black_loss)\n",
        "print()\n",
        "\n",
        "black_correct_loss = loss_eval(black_true, predict_black)\n",
        "print(\"Uncommon correct\", black_correct_loss)\n",
        "print()\n",
        "\n",
        "black_guess_no = loss_eval(black_true, predict_no)\n",
        "print(\"Uncommon incorrect, guessed uncommon, incorrect category\", black_guess_no)\n",
        "print()\n",
        "\n",
        "black_guess_yes = loss_eval(black_true, predict_yes)\n",
        "print(\"Uncommon incorrect, guessed common, incorrect category\", black_guess_yes)\n"
      ],
      "execution_count": 23,
      "outputs": [
        {
          "output_type": "stream",
          "text": [
            "Common correct 0.35667497\n",
            "\n",
            "Common same category, guessed uncommon 1.2601986\n",
            "\n",
            "Uncommon incorrect, guessed common 88.351036\n",
            "\n",
            "Uncommon correct 0.35667497\n",
            "\n",
            "Uncommon incorrect, guessed uncommon, incorrect category 73.39932\n",
            "\n",
            "Uncommon incorrect, guessed common, incorrect category 103.716446\n"
          ],
          "name": "stdout"
        }
      ]
    },
    {
      "cell_type": "code",
      "metadata": {
        "id": "uI2R_03mlhNZ"
      },
      "source": [
        "from PIL import Image\r\n",
        "from sklearn.preprocessing import OneHotEncoder\r\n",
        "one_hot_encoder = OneHotEncoder(sparse=False)\r\n",
        "one_hot_encoder.fit(np.array(list(labels_dict.keys())).reshape(-1, 1))\r\n",
        "sentence_vector_size = glove_vector_size if using_glove else w2v_vector_size\r\n",
        "UNKNOWN = [0] * sentence_vector_size\r\n",
        "# Custom Dataset needed to handle the tuples (image, question, answer)\r\n",
        "class CustomDataset(tf.keras.utils.Sequence):\r\n",
        "    \"\"\"\r\n",
        "      CustomDataset inheriting from tf.keras.utils.Sequence.\r\n",
        "\r\n",
        "      3 main methods:\r\n",
        "        - __init__: save dataset params like directory, filenames..\r\n",
        "        - __len__: return the total number of samples in the dataset\r\n",
        "        - __getitem__: return a sample from the dataset (image, question, answer)\r\n",
        "\r\n",
        "      Note:\r\n",
        "        - the custom dataset return a single sample from the dataset. Then, we use\r\n",
        "          a tf.data.Dataset object to group samples into batches.\r\n",
        "        - in this case we have a different structure of the dataset in memory.\r\n",
        "          We have all the images in the same folder and the training and validation splits\r\n",
        "          are defined in text files.\r\n",
        "\r\n",
        "    \"\"\"\r\n",
        "\r\n",
        "    def __init__(self, which_subset, img_generator=None,\r\n",
        "                 preprocessing_function=None, out_shape=[256, 256], validation_split=0.2):\r\n",
        "                \r\n",
        "        with open(path.join(DIR, \"train_questions_annotations.json\")) as file:\r\n",
        "            loaded = json.load(file).values()\r\n",
        "            train_questions = [x[\"question\"] for x in loaded]\r\n",
        "            train_images = [x[\"image_id\"] for x in loaded]\r\n",
        "            train_answers = [x[\"answer\"] for x in loaded]\r\n",
        "\r\n",
        "        # Build sentences to find the embedding in Word2Vec (as in the challenge3Word2VecEncodings.ipynb)\r\n",
        "        sentences = []\r\n",
        "        for i in train_questions:\r\n",
        "            sentences.append(i.replace('?', '').lower().split(' '))\r\n",
        "\r\n",
        "        # Convert the string sentences in word2vec embeddings\r\n",
        "        sentences_vectorized = []\r\n",
        "        for sentence in sentences:\r\n",
        "            sentence_vectorized = []\r\n",
        "            for word in sentence:\r\n",
        "                if using_glove:\r\n",
        "                    vector = embeddings_index.get(word)\r\n",
        "                    if vector is None:\r\n",
        "                        vector = UNKNOWN # W2v is trained on our words so it will have all the words\r\n",
        "                else:\r\n",
        "                    vector = model_w2v.wv[word]\r\n",
        "                sentence_vectorized.append(vector)\r\n",
        "            # Add the padding\r\n",
        "            if (len(sentence) <= max_sentence_length):\r\n",
        "                padding_needed = max_sentence_length - len(sentence_vectorized)\r\n",
        "                pad = [0] * sentence_vector_size\r\n",
        "                for _ in range(padding_needed):\r\n",
        "                    sentence_vectorized.append(pad)\r\n",
        "            else:\r\n",
        "                raise ValueError(\"len(sentence) = \" + str(len(sentence)))\r\n",
        "            sentences_vectorized.append(sentence_vectorized)\r\n",
        "\r\n",
        "        # Split the indexes of the training and the validation sets\r\n",
        "        split_index = int((1 - validation_split) * len(sentences_vectorized))\r\n",
        "        if which_subset == 'training':\r\n",
        "            subset_images = train_images[:split_index]\r\n",
        "            subset_questions = sentences_vectorized[:split_index]\r\n",
        "            subset_answers = train_answers[:split_index]\r\n",
        "        elif which_subset == 'validation':\r\n",
        "            subset_images = train_images[split_index:]\r\n",
        "            subset_questions = sentences_vectorized[split_index:]\r\n",
        "            subset_answers = train_answers[split_index:]\r\n",
        "        else:\r\n",
        "            raise ValueError()\r\n",
        "\r\n",
        "        self.train_questions = train_questions\r\n",
        "        self.train_images = train_images\r\n",
        "        self.train_answers = train_answers\r\n",
        "        self.which_subset = which_subset\r\n",
        "        self.subset_images = subset_images\r\n",
        "        self.subset_questions = subset_questions\r\n",
        "        self.subset_answers = subset_answers\r\n",
        "        self.img_generator = img_generator\r\n",
        "        self.preprocessing_function = preprocessing_function\r\n",
        "        self.out_shape = out_shape\r\n",
        "        self.sentences_vectorized = sentences_vectorized\r\n",
        "\r\n",
        "    def __len__(self):\r\n",
        "        return len(self.subset_questions)\r\n",
        "\r\n",
        "    def __getitem__(self, index):\r\n",
        "        img = Image.open(path.join(\"./Images\", self.subset_images[index] + \".png\")).convert(\"RGB\")\r\n",
        "        img_arr = np.array(img)\r\n",
        "        if self.preprocessing_function:\r\n",
        "            img_arr = self.preprocessing_function(img_arr)\r\n",
        "        else: # if no processing function is passed we prepocess as in challenge3ImageAutoencoder.ipynb\r\n",
        "            img_arr = img_arr.astype('float64')\r\n",
        "            img_arr *= 1./255\r\n",
        "            img_arr -= .5\r\n",
        "        img_arr = np.expand_dims(img_arr, axis=0)\r\n",
        "\r\n",
        "\r\n",
        "        sentence_vectorized = self.subset_questions[index]\r\n",
        "        sentence_vectorized = np.expand_dims(sentence_vectorized, axis=0)\r\n",
        "        answer_vectorized = one_hot_encoder.transform(np.array([self.subset_answers[index]]).reshape(-1, 1))[0]\r\n",
        "        answer_vectorized = np.expand_dims(answer_vectorized, axis=0)\r\n",
        "        return (img_arr, sentence_vectorized), answer_vectorized"
      ],
      "execution_count": 26,
      "outputs": []
    },
    {
      "cell_type": "code",
      "metadata": {
        "id": "mQfdwjLw-mUf"
      },
      "source": [
        "from tensorflow.keras.preprocessing.image import ImageDataGenerator\r\n",
        "from keras.applications.vgg16 import preprocess_input \r\n",
        "\r\n",
        "if using_vgg:\r\n",
        "    train_data_gen = ImageDataGenerator(preprocessing_function=preprocess_input)  # to apply vgg normalization\r\n",
        "    dataset = CustomDataset('training', img_generator=train_data_gen, validation_split=validation_split, preprocessing_function=preprocess_input)\r\n",
        "else:\r\n",
        "    train_data_gen = ImageDataGenerator()\r\n",
        "    dataset = CustomDataset('training', img_generator=train_data_gen, validation_split=validation_split)\r\n",
        "\r\n",
        "if using_vgg:\r\n",
        "    valid_data_gen = ImageDataGenerator(preprocessing_function=preprocess_input)  # to apply vgg normalization\r\n",
        "    dataset_valid = CustomDataset('validation', img_generator=valid_data_gen, validation_split=validation_split, preprocessing_function=preprocess_input)\r\n",
        "else:\r\n",
        "    valid_data_gen = ImageDataGenerator()\r\n",
        "    dataset_valid = CustomDataset('validation', img_generator=valid_data_gen, validation_split=validation_split)\r\n",
        "\r\n",
        "\r\n",
        "train_dataset = tf.data.Dataset.from_generator(lambda: dataset,\r\n",
        "                                               output_types=((tf.float64, tf.float64), tf.float64),\r\n",
        "                                               output_shapes=(([None, img_size[0], img_size[1], img_size[2]], [None, max_sentence_length, sentence_vector_size]), [None, num_classes]))\r\n",
        "train_dataset = train_dataset.repeat()\r\n",
        "\r\n",
        "valid_dataset = tf.data.Dataset.from_generator(lambda: dataset_valid,\r\n",
        "                                               output_types=((tf.float64, tf.float64), tf.float64),\r\n",
        "                                               output_shapes=(([None, img_size[0], img_size[1], img_size[2]], [None, max_sentence_length, sentence_vector_size]), [None, num_classes]))\r\n",
        "valid_dataset = valid_dataset.repeat()\r\n"
      ],
      "execution_count": 27,
      "outputs": []
    },
    {
      "cell_type": "code",
      "metadata": {
        "id": "dpoOBwSSLoR0"
      },
      "source": [
        "from keras import Model\r\n",
        "from tensorflow.keras import layers\r\n",
        "from tensorflow.keras.utils import plot_model\r\n",
        "from keras.models import load_model\r\n",
        "# Create the model\r\n",
        "# ----------------------\r\n",
        "if using_vgg:\r\n",
        "    vgg = tf.keras.applications.VGG16(weights='imagenet', include_top=False, input_shape=img_size)\r\n",
        "\r\n",
        "    if finetuning:\r\n",
        "        freeze_until = 15 # layer from which we want to fine-tune\r\n",
        "        \r\n",
        "        for layer in vgg.layers[:freeze_until]:\r\n",
        "            layer.trainable = False\r\n",
        "    else:\r\n",
        "        vgg.trainable = False\r\n",
        "else:\r\n",
        "    vgg = load_model(\"./saved_encoder\")\r\n",
        "    vgg.trainable = True\r\n",
        "    for layer in vgg.layers:\r\n",
        "        layer._name = layer.name + \"_encoder\"\r\n"
      ],
      "execution_count": 28,
      "outputs": []
    },
    {
      "cell_type": "code",
      "metadata": {
        "id": "Q6m6eBoCT0Ks",
        "colab": {
          "base_uri": "https://localhost:8080/",
          "height": 1000
        },
        "outputId": "413fede6-0a33-48a7-8445-690f09e9a1a5"
      },
      "source": [
        "# Image network\n",
        "# ----------------------\n",
        "gap = tf.keras.layers.GlobalAveragePooling2D()(vgg.layers[first_n_layers_of_encoder].output)\n",
        "out_img = tf.keras.layers.Flatten()(gap) # Flatten needed for the Concatenate to match the tensor size of the LSTM \n",
        "x = Model(inputs=vgg.input, outputs=out_img)\n",
        "\n",
        "# Text network\n",
        "# ----------------------\n",
        "text_input = tf.keras.Input(shape=[max_sentence_length, sentence_vector_size])\n",
        "lstm_input = text_input\n",
        "for i in range(lstm_n_layers):\n",
        "    lstm = tf.keras.layers.LSTM(units=lstm_n_units, return_state=True, return_sequences= i + 1 != lstm_n_layers)\n",
        "    if lstm_use_bidirectional:\n",
        "        lstm = tf.keras.layers.Bidirectional(lstm)\n",
        "    lstm_output = lstm(lstm_input)\n",
        "    if lstm_use_bidirectional:\n",
        "        lstm_output = lstm_output[0]\n",
        "    lstm_input = lstm_output\n",
        "\n",
        "#lstm1_states = [h, c]\n",
        "y = Model(inputs=text_input, outputs=lstm_output)\n",
        "\n",
        "# Dense network\n",
        "# ----------------------\n",
        "z = tf.keras.layers.Concatenate(axis=1)([x.output, y.output])\n",
        "for i in range(hidden_layers):\n",
        "    z = tf.keras.layers.Dense(hidden_neurons, activation=\"relu\")(z)\n",
        "    if add_dropout:\n",
        "        z = tf.keras.layers.Dropout(add_dropout)(z)\n",
        "z = tf.keras.layers.Dense(hidden_neurons, activation=\"sigmoid\")(z)\n",
        "z = tf.keras.layers.Dense(num_classes, activation='softmax')(z)\n",
        "model = Model(inputs=[x.input, y.input], outputs=z)\n",
        "\n",
        "model.summary()\n",
        "\n",
        "\n",
        "tf.keras.utils.plot_model(model)"
      ],
      "execution_count": 29,
      "outputs": [
        {
          "output_type": "stream",
          "text": [
            "Model: \"model_2\"\n",
            "__________________________________________________________________________________________________\n",
            "Layer (type)                    Output Shape         Param #     Connected to                     \n",
            "==================================================================================================\n",
            "input_1_encoder (InputLayer)    [(None, 400, 700, 3) 0                                            \n",
            "__________________________________________________________________________________________________\n",
            "resizing_encoder (Resizing)     (None, 400, 800, 3)  0           input_1_encoder[0][0]            \n",
            "__________________________________________________________________________________________________\n",
            "conv2d_encoder (Conv2D)         (None, 400, 800, 8)  224         resizing_encoder[0][0]           \n",
            "__________________________________________________________________________________________________\n",
            "max_pooling2d_encoder (MaxPooli (None, 200, 400, 8)  0           conv2d_encoder[0][0]             \n",
            "__________________________________________________________________________________________________\n",
            "conv2d_1_encoder (Conv2D)       (None, 200, 400, 16) 1168        max_pooling2d_encoder[0][0]      \n",
            "__________________________________________________________________________________________________\n",
            "max_pooling2d_1_encoder (MaxPoo (None, 100, 200, 16) 0           conv2d_1_encoder[0][0]           \n",
            "__________________________________________________________________________________________________\n",
            "conv2d_2_encoder (Conv2D)       (None, 100, 200, 32) 4640        max_pooling2d_1_encoder[0][0]    \n",
            "__________________________________________________________________________________________________\n",
            "max_pooling2d_2_encoder (MaxPoo (None, 50, 100, 32)  0           conv2d_2_encoder[0][0]           \n",
            "__________________________________________________________________________________________________\n",
            "input_1 (InputLayer)            [(None, 30, 100)]    0                                            \n",
            "__________________________________________________________________________________________________\n",
            "conv2d_3_encoder (Conv2D)       (None, 50, 100, 64)  18496       max_pooling2d_2_encoder[0][0]    \n",
            "__________________________________________________________________________________________________\n",
            "bidirectional (Bidirectional)   [(None, 30, 64), (No 34048       input_1[0][0]                    \n",
            "__________________________________________________________________________________________________\n",
            "max_pooling2d_3_encoder (MaxPoo (None, 25, 50, 64)   0           conv2d_3_encoder[0][0]           \n",
            "__________________________________________________________________________________________________\n",
            "bidirectional_1 (Bidirectional) [(None, 30, 64), (No 24832       bidirectional[0][0]              \n",
            "__________________________________________________________________________________________________\n",
            "global_average_pooling2d (Globa (None, 64)           0           max_pooling2d_3_encoder[0][0]    \n",
            "__________________________________________________________________________________________________\n",
            "bidirectional_2 (Bidirectional) [(None, 30, 64), (No 24832       bidirectional_1[0][0]            \n",
            "__________________________________________________________________________________________________\n",
            "flatten (Flatten)               (None, 64)           0           global_average_pooling2d[0][0]   \n",
            "__________________________________________________________________________________________________\n",
            "bidirectional_3 (Bidirectional) [(None, 64), (None,  24832       bidirectional_2[0][0]            \n",
            "__________________________________________________________________________________________________\n",
            "concatenate (Concatenate)       (None, 128)          0           flatten[0][0]                    \n",
            "                                                                 bidirectional_3[0][0]            \n",
            "__________________________________________________________________________________________________\n",
            "dense (Dense)                   (None, 128)          16512       concatenate[0][0]                \n",
            "__________________________________________________________________________________________________\n",
            "dense_1 (Dense)                 (None, 128)          16512       dense[0][0]                      \n",
            "__________________________________________________________________________________________________\n",
            "dense_2 (Dense)                 (None, 128)          16512       dense_1[0][0]                    \n",
            "__________________________________________________________________________________________________\n",
            "dense_3 (Dense)                 (None, 58)           7482        dense_2[0][0]                    \n",
            "==================================================================================================\n",
            "Total params: 190,090\n",
            "Trainable params: 190,090\n",
            "Non-trainable params: 0\n",
            "__________________________________________________________________________________________________\n"
          ],
          "name": "stdout"
        },
        {
          "output_type": "execute_result",
          "data": {
            "image/png": "[encoded data removed]",
            "text/plain": [
              "<IPython.core.display.Image object>"
            ]
          },
          "metadata": {
            "tags": []
          },
          "execution_count": 29
        }
      ]
    },
    {
      "cell_type": "code",
      "metadata": {
        "id": "kTv2Z-iFcVY_"
      },
      "source": [
        "# Optimization params\r\n",
        "# -------------------\r\n",
        "\r\n",
        "# Loss\r\n",
        "# loss = tf.keras.losses.CategoricalCrossentropy()\r\n",
        "loss = custom_loss\r\n",
        "# learning rate\r\n",
        "lr = 1e-3\r\n",
        "optimizer = tf.keras.optimizers.Adam(learning_rate=lr)\r\n",
        "# -------------------\r\n",
        "\r\n",
        "# Validation metrics\r\n",
        "# ------------------\r\n",
        "\r\n",
        "metrics = ['accuracy']\r\n",
        "# ------------------\r\n",
        "\r\n",
        "# Compile Model\r\n",
        "model.compile(optimizer=optimizer, loss=loss, metrics=metrics)"
      ],
      "execution_count": 30,
      "outputs": []
    },
    {
      "cell_type": "code",
      "metadata": {
        "id": "YIkdJaURZ2lS"
      },
      "source": [
        "# Training \r\n",
        "# ----------------------\r\n",
        "import os\r\n",
        "from datetime import datetime\r\n",
        "\r\n",
        "exps_dir = os.path.join(path.curdir, 'logs')\r\n",
        "if not os.path.exists(exps_dir):\r\n",
        "    os.makedirs(exps_dir)\r\n",
        "\r\n",
        "now = datetime.now().strftime('%b%d_%H-%M-%S')\r\n",
        "\r\n",
        "model_name = 'VQA'\r\n",
        "\r\n",
        "exp_dir = os.path.join(exps_dir, model_name + '_' + str(now))\r\n",
        "if not os.path.exists(exp_dir):\r\n",
        "    os.makedirs(exp_dir)\r\n",
        "    \r\n",
        "callbacks = []\r\n",
        "\r\n",
        "# Model checkpoint\r\n",
        "# ----------------\r\n",
        "ckpt_dir = os.path.join(exp_dir, 'ckpts')\r\n",
        "if not os.path.exists(ckpt_dir):\r\n",
        "    os.makedirs(ckpt_dir)\r\n",
        "\r\n",
        "ckpt_callback = tf.keras.callbacks.ModelCheckpoint(filepath=os.path.join(ckpt_dir, 'cp.ckpt'), \r\n",
        "                                                   save_weights_only=True)  # False to save the model directly\r\n",
        "callbacks.append(ckpt_callback)\r\n",
        "\r\n",
        "# Visualize Learning on Tensorboard\r\n",
        "# ---------------------------------\r\n",
        "tb_dir = os.path.join(exp_dir, 'tb_logs')\r\n",
        "if not os.path.exists(tb_dir):\r\n",
        "    os.makedirs(tb_dir)\r\n",
        "    \r\n",
        "# By default shows losses and metrics for both training and validation\r\n",
        "tb_callback = tf.keras.callbacks.TensorBoard(log_dir=tb_dir,\r\n",
        "                                             profile_batch=0,\r\n",
        "                                             histogram_freq=1)  # if 1 shows weights histograms\r\n",
        "callbacks.append(tb_callback)\r\n",
        "\r\n",
        "# Early Stopping\r\n",
        "# --------------\r\n",
        "if early_stop:\r\n",
        "    es_callback = tf.keras.callbacks.EarlyStopping(monitor=monitor, patience=patience)\r\n",
        "    callbacks.append(es_callback)\r\n",
        "\r\n",
        "\r\n",
        "# How to visualize Tensorboard\r\n",
        "\r\n",
        "# 1. tensorboard --logdir EXPERIMENTS_DIR --port PORT     <- from terminal\r\n",
        "# 2. localhost:PORT   <- in your browser\r\n"
      ],
      "execution_count": 31,
      "outputs": []
    },
    {
      "cell_type": "code",
      "metadata": {
        "colab": {
          "base_uri": "https://localhost:8080/"
        },
        "id": "TL9qPas9-_GX",
        "outputId": "793c0813-d5f6-4009-ac04-25cfd48ecb44"
      },
      "source": [
        "model.fit(x=train_dataset,\r\n",
        "          epochs=epochs,\r\n",
        "          batch_size=batch_size,\r\n",
        "          steps_per_epoch=len(dataset) // batch_size, \r\n",
        "          validation_data=valid_dataset,\r\n",
        "          validation_steps=len(dataset_valid) // batch_size, \r\n",
        "          callbacks=callbacks)"
      ],
      "execution_count": null,
      "outputs": [
        {
          "output_type": "stream",
          "text": [
            "Epoch 1/100\n",
            "1654/1654 [==============================] - 59s 35ms/step - loss: 5.4606 - accuracy: 0.2914 - val_loss: 5.4162 - val_accuracy: 0.3060\n",
            "Epoch 2/100\n",
            "1654/1654 [==============================] - 58s 35ms/step - loss: 5.4408 - accuracy: 0.3041 - val_loss: 5.3015 - val_accuracy: 0.3060\n",
            "Epoch 3/100\n",
            "1654/1654 [==============================] - 58s 35ms/step - loss: 5.3915 - accuracy: 0.3253 - val_loss: 5.3226 - val_accuracy: 0.3060\n",
            "Epoch 4/100\n",
            "1654/1654 [==============================] - 57s 35ms/step - loss: 5.4775 - accuracy: 0.2733 - val_loss: 5.2644 - val_accuracy: 0.3060\n",
            "Epoch 5/100\n",
            "1654/1654 [==============================] - 58s 35ms/step - loss: 5.3198 - accuracy: 0.3241 - val_loss: 5.3667 - val_accuracy: 0.3060\n",
            "Epoch 6/100\n",
            "1654/1654 [==============================] - 59s 36ms/step - loss: 5.4161 - accuracy: 0.2920 - val_loss: 5.3477 - val_accuracy: 0.3060\n",
            "Epoch 7/100\n",
            "1654/1654 [==============================] - 60s 36ms/step - loss: 5.4125 - accuracy: 0.3114 - val_loss: 5.3410 - val_accuracy: 0.3060\n",
            "Epoch 8/100\n",
            "1654/1654 [==============================] - 59s 36ms/step - loss: 5.4747 - accuracy: 0.2902 - val_loss: 5.3819 - val_accuracy: 0.3060\n",
            "Epoch 9/100\n",
            "1475/1654 [=========================>....] - ETA: 6s - loss: 5.3719 - accuracy: 0.3003"
          ],
          "name": "stdout"
        }
      ]
    },
    {
      "cell_type": "code",
      "metadata": {
        "colab": {
          "base_uri": "https://localhost:8080/",
          "height": 261
        },
        "id": "3weSydT-hFJj",
        "outputId": "04cce470-10b0-448d-8c7a-1670d758b4a6"
      },
      "source": [
        "import matplotlib.pyplot as plt\r\n",
        "i = iter(dataset_valid)\r\n",
        "\r\n",
        "img = next(i)[0][0].reshape((400, 700, 3))\r\n",
        "\r\n",
        "plt.imshow(img)\r\n",
        "plt.show()"
      ],
      "execution_count": null,
      "outputs": [
        {
          "output_type": "execute_result",
          "data": {
            "text/plain": [
              "<matplotlib.image.AxesImage at 0x7ff896aa36a0>"
            ]
          },
          "metadata": {
            "tags": []
          },
          "execution_count": 24
        },
        {
          "output_type": "display_data",
          "data": {
            "image/png": "[encoded data removed]",
            "text/plain": [
              "<Figure size 432x288 with 1 Axes>"
            ]
          },
          "metadata": {
            "tags": [],
            "needs_background": "light"
          }
        }
      ]
    },
    {
      "cell_type": "code",
      "metadata": {
        "colab": {
          "base_uri": "https://localhost:8080/"
        },
        "id": "mb9Z2uES3PCw",
        "outputId": "85d08bb4-4b57-4ad8-b25a-6fd10580c6e1"
      },
      "source": [
        "# Save the model\r\n",
        "!mkdir ./saved_model3/\r\n",
        "!mkdir ./saved_model3/weights\r\n",
        "model.save_weights('./saved_model3/weights')\r\n",
        "!zip -o -r saved_model3.zip ./saved_model3/"
      ],
      "execution_count": null,
      "outputs": [
        {
          "output_type": "stream",
          "text": [
            "  adding: saved_model3/ (stored 0%)\n",
            "  adding: saved_model3/weights/ (stored 0%)\n",
            "  adding: saved_model3/checkpoint (deflated 37%)\n",
            "  adding: saved_model3/weights.index (deflated 77%)\n",
            "  adding: saved_model3/weights.data-00000-of-00001 (deflated 22%)\n"
          ],
          "name": "stdout"
        }
      ]
    },
    {
      "cell_type": "code",
      "metadata": {
        "id": "YgbYo9EhrNSw",
        "colab": {
          "base_uri": "https://localhost:8080/"
        },
        "outputId": "70d54f28-d2e6-4500-fd7c-dc2ba3542f59"
      },
      "source": [
        "from sklearn.metrics import classification_report, confusion_matrix\r\n",
        "\r\n",
        "# Print the confusion matrix from the validation test\r\n",
        "\r\n",
        "y_pred = []\r\n",
        "y_true = []\r\n",
        "i = 0\r\n",
        "for sample in valid_dataset:\r\n",
        "    y_pred.append(model.predict(sample[0]))\r\n",
        "    y_true.append(sample[1])\r\n",
        "    i += 1\r\n",
        "    if i > len(dataset_valid):\r\n",
        "        break\r\n",
        "\r\n",
        "print(i)\r\n",
        "#y_pred = np.argmax(y_pred, axis=1)\r\n",
        "c = []\r\n",
        "for a in y_pred:\r\n",
        "    b = np.zeros_like(a)\r\n",
        "    b[np.arange(len(a)), a.argmax(1)] = 1\r\n",
        "    c.append(b)\r\n",
        "y_pred = c\r\n",
        "y_true_int = []\r\n",
        "for row in y_true:\r\n",
        "    y_true_int.append([np.where(r==1)[0][0] for r in row])\r\n",
        "y_pred_int = []\r\n",
        "for row in y_pred:\r\n",
        "    y_pred_int.append([np.where(r==1)[0][0] for r in row])\r\n",
        "\r\n",
        "print('Confusion Matrix')\r\n",
        "print(confusion_matrix(y_true=y_true_int, y_pred=y_pred_int))\r\n",
        "print('Classification Report')\r\n",
        "target_names = list(labels_dict.keys())\r\n",
        "print(classification_report(y_true=y_true_int, y_pred=y_pred_int, target_names=target_names))"
      ],
      "execution_count": null,
      "outputs": [
        {
          "output_type": "stream",
          "text": [
            "5885\n",
            "Confusion Matrix\n",
            "[[   0    0   51 ...    0    0    0]\n",
            " [   0    0  219 ...    0    0    1]\n",
            " [   0    0  452 ...    1    0    0]\n",
            " ...\n",
            " [   0    0    0 ...    0    0    5]\n",
            " [   0    0    0 ...    0   40    0]\n",
            " [   0    0    1 ...    0    0 1861]]\n",
            "Classification Report\n",
            "              precision    recall  f1-score   support\n",
            "\n",
            "           0       0.00      0.00      0.00        53\n",
            "           1       0.00      0.00      0.00       220\n",
            "           2       0.45      0.99      0.62       456\n",
            "           3       0.00      0.00      0.00       146\n",
            "           4       0.00      0.00      0.00        88\n",
            "           5       0.00      0.00      0.00        44\n",
            "       apple       0.06      0.06      0.06        17\n",
            "    baseball       0.00      0.00      0.00        14\n",
            "       bench       0.00      0.00      0.00         6\n",
            "        bike       0.10      0.50      0.17        12\n",
            "        bird       0.31      0.31      0.31        13\n",
            "       black       0.00      0.00      0.00        49\n",
            "     blanket       0.00      0.00      0.00        20\n",
            "        blue       0.36      0.40      0.38        90\n",
            "        bone       0.07      0.15      0.10        13\n",
            "        book       0.00      0.00      0.00        20\n",
            "         boy       0.00      0.00      0.00        22\n",
            "       brown       0.17      0.02      0.04        85\n",
            "         cat       0.00      0.00      0.00        45\n",
            "       chair       0.00      0.00      0.00        20\n",
            "       couch       0.00      0.00      0.00        28\n",
            "         dog       0.31      0.53      0.39        75\n",
            "       floor       0.20      0.90      0.33        42\n",
            "        food       0.00      0.00      0.00        29\n",
            "    football       0.38      0.14      0.20        36\n",
            "        girl       0.22      0.71      0.33        28\n",
            "       grass       0.00      0.00      0.00        22\n",
            "        gray       0.00      0.00      0.00        41\n",
            "       green       0.00      0.00      0.00        38\n",
            "        left       0.00      0.00      0.00        33\n",
            "         log       0.19      0.86      0.31        21\n",
            "         man       0.00      0.00      0.00        19\n",
            " monkey bars       0.18      0.11      0.14        18\n",
            "          no       0.00      0.00      0.00      1298\n",
            "     nothing       0.25      0.52      0.34        33\n",
            "      orange       0.91      0.69      0.78        29\n",
            "         pie       0.00      0.00      0.00        18\n",
            "       plant       0.06      0.04      0.04        28\n",
            "     playing       0.44      0.25      0.32        28\n",
            "         red       0.52      0.91      0.66       194\n",
            "       right       0.45      0.65      0.53        31\n",
            "         rug       0.00      0.00      0.00        45\n",
            "     sandbox       0.00      0.00      0.00         9\n",
            "     sitting       0.33      0.80      0.47        30\n",
            "    sleeping       0.00      0.00      0.00        16\n",
            "      soccer       0.44      0.79      0.57        29\n",
            "    squirrel       0.00      0.00      0.00        18\n",
            "    standing       0.00      0.00      0.00        12\n",
            "       stool       0.00      0.00      0.00        21\n",
            "       sunny       1.00      0.71      0.83        21\n",
            "       table       0.00      0.00      0.00        37\n",
            "        tree       0.00      0.00      0.00        21\n",
            "  watermelon       0.24      0.95      0.39        22\n",
            "       white       0.31      0.49      0.38        75\n",
            "        wine       1.00      0.47      0.64        32\n",
            "       woman       0.00      0.00      0.00        31\n",
            "      yellow       0.56      0.55      0.55        73\n",
            "         yes       0.58      0.99      0.74      1871\n",
            "\n",
            "    accuracy                           0.49      5885\n",
            "   macro avg       0.17      0.25      0.18      5885\n",
            "weighted avg       0.29      0.49      0.36      5885\n",
            "\n"
          ],
          "name": "stdout"
        },
        {
          "output_type": "stream",
          "text": [
            "/usr/local/lib/python3.6/dist-packages/sklearn/metrics/_classification.py:1272: UndefinedMetricWarning: Precision and F-score are ill-defined and being set to 0.0 in labels with no predicted samples. Use `zero_division` parameter to control this behavior.\n",
            "  _warn_prf(average, modifier, msg_start, len(result))\n"
          ],
          "name": "stderr"
        }
      ]
    },
    {
      "cell_type": "code",
      "metadata": {
        "id": "mNzNj2en1np3"
      },
      "source": [
        "# Create the results file to submit\r\n",
        "\r\n",
        "import os\r\n",
        "from datetime import datetime\r\n",
        "\r\n",
        "def create_csv(results, results_dir='./'):\r\n",
        "\r\n",
        "    csv_fname = 'results_'\r\n",
        "    csv_fname += datetime.now().strftime('%b%d_%H-%M-%S') + '.csv'\r\n",
        "\r\n",
        "    with open(os.path.join(results_dir, csv_fname), 'w') as f:\r\n",
        "\r\n",
        "        f.write('Id,Category\\n')\r\n",
        "\r\n",
        "        for key, value in results.items():\r\n",
        "            f.write(key + ',' + str(value) + '\\n')"
      ],
      "execution_count": null,
      "outputs": []
    },
    {
      "cell_type": "code",
      "metadata": {
        "id": "n5h7jj7AiAKi"
      },
      "source": [
        "def saveTestValues(model):\n",
        "    with open(path.join(DIR, \"test_questions.json\")) as file:\n",
        "        loads = json.load(file)\n",
        "        test_question_ids = list(loads.keys())\n",
        "        loaded = loads.values()\n",
        "        test_questions = [x[\"question\"] for x in loaded]\n",
        "        test_images = [x[\"image_id\"] for x in loaded]\n",
        "    # Build sentences to find the embedding in Word2Vec (as in the challenge3Word2VecEncodings.ipynb)\n",
        "    sentences = [i.replace('?', '').lower().split(' ') for i in test_questions]\n",
        "    # Convert the string sentences in word2vec embeddings\n",
        "    def vectorize_sentence(sentence:str):\n",
        "        if using_glove:\n",
        "            def get_vector(word):\n",
        "                vector = embeddings_index.get(word)\n",
        "                if vector is None:\n",
        "                    vector = UNKNOWN\n",
        "                return vector\n",
        "            vectorized_sentence = [get_vector(word) for word in sentence]\n",
        "        else:\n",
        "            vectorized_sentence = [model_w2v.wv[word] for word in sentence if word in model_w2v.wv]\n",
        "        padding_amount = max_sentence_length - len(vectorized_sentence)\n",
        "        padding = [0] * sentence_vector_size\n",
        "        for _ in range(padding_amount):\n",
        "            vectorized_sentence.append(padding)\n",
        "        return vectorized_sentence\n",
        "    vectorized_sentences = [vectorize_sentence(sentence) for sentence in sentences]\n",
        "    results = {}\n",
        "    i = 0\n",
        "    for index in range(len(test_questions)):\n",
        "        img_path = path.join(\"./Images\", test_images[index] + \".png\")\n",
        "        #print(img_path)\n",
        "        img = Image.open(img_path).convert(\"RGB\")\n",
        "        img_arr = np.array(img)\n",
        "        if using_vgg:\n",
        "            img_arr = preprocess_input(img_arr)\n",
        "        else: # if not using vgg we prepocess as in challenge3ImageAutoencoder.ipynb\n",
        "            img_arr = img_arr.astype('float64')\n",
        "            img_arr *= 1./255\n",
        "            img_arr -= .5\n",
        "        img_arr = np.expand_dims(img_arr, axis=0)\n",
        "\n",
        "        vectorized_sentence = vectorized_sentences[index]\n",
        "        #print(vectorize_sentence != vectorized_sentences[index + 1])\n",
        "        vectorized_sentence = np.expand_dims(vectorized_sentence, axis=0)\n",
        "        prediction_result = model.predict((img_arr, vectorized_sentence))\n",
        "        #print(prediction_result)\n",
        "        res = (prediction_result[0]).argmax(axis=0)\n",
        "        #print(sentences[index])\n",
        "        #print(list(labels_dict)[res])\n",
        "        results[test_question_ids[index]] = res\n",
        "        i += 1\n",
        "    create_csv(results)\n",
        "    print(i)"
      ],
      "execution_count": null,
      "outputs": []
    },
    {
      "cell_type": "code",
      "metadata": {
        "colab": {
          "base_uri": "https://localhost:8080/"
        },
        "id": "qASFQm7SxxiZ",
        "outputId": "304abf2c-a1c7-4b51-996f-a2841b2f0902"
      },
      "source": [
        "saveTestValues(model)"
      ],
      "execution_count": null,
      "outputs": [
        {
          "output_type": "stream",
          "text": [
            "6372\n"
          ],
          "name": "stdout"
        }
      ]
    }
  ]
}