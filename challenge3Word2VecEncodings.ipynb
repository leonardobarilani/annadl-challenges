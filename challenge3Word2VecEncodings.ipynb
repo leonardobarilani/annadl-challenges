{
  "nbformat": 4,
  "nbformat_minor": 0,
  "metadata": {
    "colab": {
      "name": "challenge3Word2VecEncodings.ipynb",
      "provenance": [],
      "collapsed_sections": [],
      "authorship_tag": "ABX9TyOGzmrq8NG5cIhqLJkq74HH",
      "include_colab_link": true
    },
    "kernelspec": {
      "name": "python3",
      "display_name": "Python 3"
    }
  },
  "cells": [
    {
      "cell_type": "markdown",
      "metadata": {
        "id": "view-in-github",
        "colab_type": "text"
      },
      "source": [
        "<a href=\"https://colab.research.google.com/github/ozyinc/ANNADL-project/blob/master/challenge3Word2VecEncodings.ipynb\" target=\"_parent\"><img src=\"https://colab.research.google.com/assets/colab-badge.svg\" alt=\"Open In Colab\"/></a>"
      ]
    },
    {
      "cell_type": "code",
      "metadata": {
        "colab": {
          "base_uri": "https://localhost:8080/"
        },
        "id": "pxpbkriSFVis",
        "outputId": "fe8803f3-0ad8-4704-eb74-494651bd6d96"
      },
      "source": [
        "from gensim.test.utils import common_texts\r\n",
        "from gensim.models import Word2Vec\r\n",
        "import json\r\n",
        "\r\n",
        "# Load questions\r\n",
        "with open(\"./train_questions_annotations.json\") as file:\r\n",
        "    loaded = json.load(file).values()\r\n",
        "    train_questions = [x[\"question\"] for x in loaded]\r\n",
        "\r\n",
        "# Build sentences to feed to Word2Vec\r\n",
        "sentences = []\r\n",
        "for i in train_questions:\r\n",
        "    sentences.append(i.replace('?', '').lower().split(' '))\r\n",
        "\r\n",
        "# Print some test sentences\r\n",
        "for i in range(0, 10):\r\n",
        "    print(sentences[i])\r\n"
      ],
      "execution_count": 1,
      "outputs": [
        {
          "output_type": "stream",
          "text": [
            "['who', 'looks', 'happier']\n",
            "['where', 'is', 'the', 'woman', 'sitting']\n",
            "['where', 'is', 'the', 'man', 'sitting']\n",
            "['is', 'this', 'man', 'hungry']\n",
            "['who', 'is', 'holding', 'the', 'football']\n",
            "['does', 'this', 'woman', 'tie', 'her', 'shoes', 'in', 'the', 'morning']\n",
            "['is', 'the', 'man', 'eating', 'a', 'hotdog']\n",
            "['what', 'is', 'the', 'predominant', 'color', 'of', 'the', 'room']\n",
            "['is', 'the', 'cat', 'running']\n",
            "['do', 'these', 'animals', 'normally', 'hang', 'out', 'together']\n"
          ],
          "name": "stdout"
        }
      ]
    },
    {
      "cell_type": "code",
      "metadata": {
        "colab": {
          "base_uri": "https://localhost:8080/"
        },
        "id": "H73RjMgZG_l9",
        "outputId": "4d335d92-5020-40a7-caac-b56547fe4651"
      },
      "source": [
        "# Hyper parameters\r\n",
        "# ---------------------------\r\n",
        "size = 100 # Vector length\r\n",
        "window = 5 # Context window length\r\n",
        "\r\n",
        "# Build & Train the model\r\n",
        "# ---------------------------\r\n",
        "model = Word2Vec(size=size, window=window, min_count=1, workers=4)\r\n",
        "model.build_vocab(sentences, progress_per=10000) # Build the vocaboulary filtering some unique words\r\n",
        "model.train(sentences, total_examples=model.corpus_count, epochs=30, report_delay=1)"
      ],
      "execution_count": 3,
      "outputs": [
        {
          "output_type": "execute_result",
          "data": {
            "text/plain": [
              "(5738420, 10870770)"
            ]
          },
          "metadata": {
            "tags": []
          },
          "execution_count": 3
        }
      ]
    },
    {
      "cell_type": "code",
      "metadata": {
        "colab": {
          "base_uri": "https://localhost:8080/"
        },
        "id": "pL-3_BUbRvMP",
        "outputId": "0fd31a3a-e742-4680-ba20-c64cfbb87129"
      },
      "source": [
        "# Print some tests\r\n",
        "print(model.corpus_count)\r\n",
        "print(model.wv.most_similar(positive=[\"red\"]))\r\n",
        "print(model.wv.most_similar(positive=[\"man\"]))\r\n",
        "vector = model.wv['computer'] # Used to retrieve the vector representation of a word\r\n",
        "print(vector)"
      ],
      "execution_count": 9,
      "outputs": [
        {
          "output_type": "stream",
          "text": [
            "58832\n",
            "[('black', 0.6762123107910156), ('gray', 0.6468334794044495), ('blue', 0.6462243795394897), ('white', 0.48647937178611755), ('tan', 0.4814988076686859), ('short-sleeved', 0.40863439440727234), ('sleeve', 0.40561360120773315), (\"ground's\", 0.39801156520843506), ('lefts', 0.3812544643878937), ('outlines', 0.37935036420822144)]\n",
            "[('boy', 0.8407500982284546), ('woman', 0.7949094176292419), ('lady', 0.794099748134613), ('guy', 0.7156769037246704), ('girl', 0.6591890454292297), ('kid', 0.6141188144683838), ('child', 0.6076536178588867), ('person', 0.6047650575637817), ('baby', 0.5876283645629883), ('couple', 0.5469201803207397)]\n",
            "[ 0.04522245 -0.15443544 -0.04261958 -0.14890696  0.24546854  0.33006325\n",
            " -0.16066836 -0.0570227  -0.02864655  0.18459536  0.0012166  -0.12295107\n",
            "  0.01319202  0.09251345 -0.04398838  0.12567563  0.1716261   0.07130545\n",
            " -0.04927554  0.11412162  0.01518239 -0.01650393  0.02366937 -0.15307769\n",
            "  0.04331827  0.0689254  -0.1378517   0.07924962 -0.01854627  0.17635761\n",
            "  0.07982916 -0.0700983   0.01479061  0.1024863   0.2029851  -0.04255915\n",
            " -0.12583125 -0.08571431 -0.12313927 -0.2764336  -0.00066333  0.03858003\n",
            " -0.02470624  0.16710962  0.0506302   0.07122729 -0.11804283 -0.04770896\n",
            " -0.15100037  0.0442794   0.0646091  -0.13387416  0.04924254  0.10601806\n",
            " -0.08119114 -0.0536498  -0.00245409 -0.32668215 -0.0267244  -0.10474107\n",
            " -0.15712075  0.04201839  0.06574916 -0.08165529 -0.19418924 -0.00830896\n",
            "  0.02466411  0.20367356  0.14955372  0.05578429 -0.25664526 -0.08183019\n",
            "  0.02728096  0.07292844  0.1137929  -0.01870293  0.18296486  0.13337938\n",
            " -0.07160395  0.03880842  0.01062985 -0.08420312  0.0926385   0.04359681\n",
            " -0.15079744 -0.11230314  0.24980947  0.02686918 -0.03787045  0.2211726\n",
            " -0.12983716  0.08707883  0.18711941  0.02547444  0.14595298  0.06579752\n",
            "  0.14451334  0.02048065 -0.1105843  -0.17203414]\n"
          ],
          "name": "stdout"
        }
      ]
    },
    {
      "cell_type": "code",
      "metadata": {
        "id": "zlQ9CSASYLZo"
      },
      "source": [
        "# Save model\r\n",
        "model.save(\"word2vec.model\")"
      ],
      "execution_count": 10,
      "outputs": []
    },
    {
      "cell_type": "code",
      "metadata": {
        "colab": {
          "base_uri": "https://localhost:8080/"
        },
        "id": "wJ0Eg-Mtapmc",
        "outputId": "316bb2e0-bcd2-4516-90cb-01bfb2b10381"
      },
      "source": [
        "# Load model\r\n",
        "model2 = Word2Vec.load(\"word2vec.model\")\r\n",
        "\r\n",
        "print(model2.wv.most_similar(positive=[\"red\"]))\r\n",
        "print(model2.wv.most_similar(positive=[\"man\"]))"
      ],
      "execution_count": 12,
      "outputs": [
        {
          "output_type": "stream",
          "text": [
            "[('black', 0.6762123107910156), ('gray', 0.6468334794044495), ('blue', 0.6462243795394897), ('white', 0.48647937178611755), ('tan', 0.4814988076686859), ('short-sleeved', 0.40863439440727234), ('sleeve', 0.40561360120773315), (\"ground's\", 0.39801156520843506), ('lefts', 0.3812544643878937), ('outlines', 0.37935036420822144)]\n",
            "[('boy', 0.8407500982284546), ('woman', 0.7949094176292419), ('lady', 0.794099748134613), ('guy', 0.7156769037246704), ('girl', 0.6591890454292297), ('kid', 0.6141188144683838), ('child', 0.6076536178588867), ('person', 0.6047650575637817), ('baby', 0.5876283645629883), ('couple', 0.5469201803207397)]\n"
          ],
          "name": "stdout"
        }
      ]
    }
  ]
}